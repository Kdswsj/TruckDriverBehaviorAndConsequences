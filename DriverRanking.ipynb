{
 "cells": [
  {
   "cell_type": "code",
   "execution_count": 15,
   "metadata": {},
   "outputs": [],
   "source": [
    "import pandas as pd\n",
    "from sklearn.linear_model import LinearRegression, Lasso\n",
    "import matplotlib.pyplot as plt\n",
    "%matplotlib inline\n",
    "from functions import *"
   ]
  },
  {
   "cell_type": "code",
   "execution_count": 5,
   "metadata": {},
   "outputs": [
    {
     "data": {
      "text/html": [
       "<div>\n",
       "<style>\n",
       "    .dataframe thead tr:only-child th {\n",
       "        text-align: right;\n",
       "    }\n",
       "\n",
       "    .dataframe thead th {\n",
       "        text-align: left;\n",
       "    }\n",
       "\n",
       "    .dataframe tbody tr th {\n",
       "        vertical-align: top;\n",
       "    }\n",
       "</style>\n",
       "<table border=\"1\" class=\"dataframe\">\n",
       "  <thead>\n",
       "    <tr style=\"text-align: right;\">\n",
       "      <th></th>\n",
       "      <th>SourceFileId</th>\n",
       "      <th>TripEndTime</th>\n",
       "      <th>VehicleId</th>\n",
       "      <th>TripDistance</th>\n",
       "      <th>DriveFuel</th>\n",
       "      <th>DriveFuelEconomy</th>\n",
       "      <th>DistanceAvgLoadFactor</th>\n",
       "      <th>Drivetime</th>\n",
       "      <th>StopIdleTime</th>\n",
       "      <th>StopIdleFuel</th>\n",
       "      <th>...</th>\n",
       "      <th>AvgLoadFactor</th>\n",
       "      <th>HardBrakesPr1000miles</th>\n",
       "      <th>BrakesPr1000miles</th>\n",
       "      <th>TopGearMinusOneUsage</th>\n",
       "      <th>IdleFuelPercentage</th>\n",
       "      <th>EngineBrakePercentage</th>\n",
       "      <th>CruisePercentage</th>\n",
       "      <th>OverSpeedAPercentage</th>\n",
       "      <th>OverSpeedBPercentage</th>\n",
       "      <th>EngineFanPercentage</th>\n",
       "    </tr>\n",
       "  </thead>\n",
       "  <tbody>\n",
       "    <tr>\n",
       "      <th>2</th>\n",
       "      <td>28424</td>\n",
       "      <td>8/19/2016</td>\n",
       "      <td>281</td>\n",
       "      <td>161448.1</td>\n",
       "      <td>28200.13</td>\n",
       "      <td>5.73</td>\n",
       "      <td>0.50</td>\n",
       "      <td>10727712</td>\n",
       "      <td>3976920</td>\n",
       "      <td>1034.50</td>\n",
       "      <td>...</td>\n",
       "      <td>0.45</td>\n",
       "      <td>0.371636</td>\n",
       "      <td>353.327168</td>\n",
       "      <td>0.056143</td>\n",
       "      <td>0.036684</td>\n",
       "      <td>0.111953</td>\n",
       "      <td>0.409951</td>\n",
       "      <td>0.013890</td>\n",
       "      <td>0.000617</td>\n",
       "      <td>0.073740</td>\n",
       "    </tr>\n",
       "    <tr>\n",
       "      <th>3</th>\n",
       "      <td>39301</td>\n",
       "      <td>2/5/2017</td>\n",
       "      <td>281</td>\n",
       "      <td>161448.1</td>\n",
       "      <td>28200.13</td>\n",
       "      <td>5.73</td>\n",
       "      <td>0.50</td>\n",
       "      <td>10727712</td>\n",
       "      <td>3976920</td>\n",
       "      <td>1034.50</td>\n",
       "      <td>...</td>\n",
       "      <td>0.45</td>\n",
       "      <td>0.371636</td>\n",
       "      <td>353.327168</td>\n",
       "      <td>0.056143</td>\n",
       "      <td>0.036684</td>\n",
       "      <td>0.111953</td>\n",
       "      <td>0.409951</td>\n",
       "      <td>0.013890</td>\n",
       "      <td>0.000617</td>\n",
       "      <td>0.073740</td>\n",
       "    </tr>\n",
       "    <tr>\n",
       "      <th>4</th>\n",
       "      <td>40235</td>\n",
       "      <td>5/23/2017</td>\n",
       "      <td>281</td>\n",
       "      <td>161448.1</td>\n",
       "      <td>28200.13</td>\n",
       "      <td>5.73</td>\n",
       "      <td>0.50</td>\n",
       "      <td>10727712</td>\n",
       "      <td>3976920</td>\n",
       "      <td>1034.50</td>\n",
       "      <td>...</td>\n",
       "      <td>0.45</td>\n",
       "      <td>0.371636</td>\n",
       "      <td>353.327168</td>\n",
       "      <td>0.056143</td>\n",
       "      <td>0.036684</td>\n",
       "      <td>0.111953</td>\n",
       "      <td>0.409951</td>\n",
       "      <td>0.013890</td>\n",
       "      <td>0.000617</td>\n",
       "      <td>0.073740</td>\n",
       "    </tr>\n",
       "    <tr>\n",
       "      <th>5</th>\n",
       "      <td>40616</td>\n",
       "      <td>9/13/2017</td>\n",
       "      <td>281</td>\n",
       "      <td>161448.3</td>\n",
       "      <td>28200.38</td>\n",
       "      <td>5.73</td>\n",
       "      <td>0.50</td>\n",
       "      <td>10727856</td>\n",
       "      <td>3976920</td>\n",
       "      <td>1034.50</td>\n",
       "      <td>...</td>\n",
       "      <td>0.45</td>\n",
       "      <td>0.371636</td>\n",
       "      <td>353.332925</td>\n",
       "      <td>0.056143</td>\n",
       "      <td>0.036684</td>\n",
       "      <td>0.111951</td>\n",
       "      <td>0.409945</td>\n",
       "      <td>0.013889</td>\n",
       "      <td>0.000617</td>\n",
       "      <td>0.073739</td>\n",
       "    </tr>\n",
       "    <tr>\n",
       "      <th>6</th>\n",
       "      <td>40694</td>\n",
       "      <td>11/6/2017</td>\n",
       "      <td>253</td>\n",
       "      <td>4572.5</td>\n",
       "      <td>774.00</td>\n",
       "      <td>5.91</td>\n",
       "      <td>0.51</td>\n",
       "      <td>286452</td>\n",
       "      <td>333288</td>\n",
       "      <td>34.25</td>\n",
       "      <td>...</td>\n",
       "      <td>0.45</td>\n",
       "      <td>0.656096</td>\n",
       "      <td>287.151449</td>\n",
       "      <td>0.303249</td>\n",
       "      <td>0.044251</td>\n",
       "      <td>0.476562</td>\n",
       "      <td>0.071635</td>\n",
       "      <td>0.255750</td>\n",
       "      <td>0.316451</td>\n",
       "      <td>1.188639</td>\n",
       "    </tr>\n",
       "  </tbody>\n",
       "</table>\n",
       "<p>5 rows × 31 columns</p>\n",
       "</div>"
      ],
      "text/plain": [
       "   SourceFileId TripEndTime  VehicleId  TripDistance  DriveFuel  \\\n",
       "2         28424   8/19/2016        281      161448.1   28200.13   \n",
       "3         39301    2/5/2017        281      161448.1   28200.13   \n",
       "4         40235   5/23/2017        281      161448.1   28200.13   \n",
       "5         40616   9/13/2017        281      161448.3   28200.38   \n",
       "6         40694   11/6/2017        253        4572.5     774.00   \n",
       "\n",
       "   DriveFuelEconomy  DistanceAvgLoadFactor  Drivetime  StopIdleTime  \\\n",
       "2              5.73                   0.50   10727712       3976920   \n",
       "3              5.73                   0.50   10727712       3976920   \n",
       "4              5.73                   0.50   10727712       3976920   \n",
       "5              5.73                   0.50   10727856       3976920   \n",
       "6              5.91                   0.51     286452        333288   \n",
       "\n",
       "   StopIdleFuel         ...           AvgLoadFactor  HardBrakesPr1000miles  \\\n",
       "2       1034.50         ...                    0.45               0.371636   \n",
       "3       1034.50         ...                    0.45               0.371636   \n",
       "4       1034.50         ...                    0.45               0.371636   \n",
       "5       1034.50         ...                    0.45               0.371636   \n",
       "6         34.25         ...                    0.45               0.656096   \n",
       "\n",
       "   BrakesPr1000miles  TopGearMinusOneUsage  IdleFuelPercentage  \\\n",
       "2         353.327168              0.056143            0.036684   \n",
       "3         353.327168              0.056143            0.036684   \n",
       "4         353.327168              0.056143            0.036684   \n",
       "5         353.332925              0.056143            0.036684   \n",
       "6         287.151449              0.303249            0.044251   \n",
       "\n",
       "   EngineBrakePercentage  CruisePercentage  OverSpeedAPercentage  \\\n",
       "2               0.111953          0.409951              0.013890   \n",
       "3               0.111953          0.409951              0.013890   \n",
       "4               0.111953          0.409951              0.013890   \n",
       "5               0.111951          0.409945              0.013889   \n",
       "6               0.476562          0.071635              0.255750   \n",
       "\n",
       "   OverSpeedBPercentage  EngineFanPercentage  \n",
       "2              0.000617             0.073740  \n",
       "3              0.000617             0.073740  \n",
       "4              0.000617             0.073740  \n",
       "5              0.000617             0.073739  \n",
       "6              0.316451             1.188639  \n",
       "\n",
       "[5 rows x 31 columns]"
      ]
     },
     "execution_count": 5,
     "metadata": {},
     "output_type": "execute_result"
    }
   ],
   "source": [
    "# load the data\n",
    "df = GetData()\n",
    "df.head()"
   ]
  },
  {
   "cell_type": "code",
   "execution_count": 6,
   "metadata": {
    "collapsed": true
   },
   "outputs": [],
   "source": [
    "# get the adjusted DFE\n",
    "df['dfe45'] = AdjustDFE(df)"
   ]
  },
  {
   "cell_type": "code",
   "execution_count": 7,
   "metadata": {
    "collapsed": true
   },
   "outputs": [],
   "source": [
    "df['DriveFuel45'] = df['TripDistance']/df['dfe45']"
   ]
  },
  {
   "cell_type": "code",
   "execution_count": 8,
   "metadata": {
    "collapsed": true
   },
   "outputs": [],
   "source": [
    "dfe_by_vehicle = df[['VehicleId','TripDistance','DriveFuel45','HardBrakeCount']]"
   ]
  },
  {
   "cell_type": "code",
   "execution_count": 9,
   "metadata": {
    "collapsed": true
   },
   "outputs": [],
   "source": [
    "dfe_by_vehicle2 = dfe_by_vehicle.groupby('VehicleId').sum()"
   ]
  },
  {
   "cell_type": "code",
   "execution_count": 10,
   "metadata": {
    "collapsed": true
   },
   "outputs": [],
   "source": [
    "dfe_by_vehicle2['dfeTotal'] = dfe_by_vehicle2['TripDistance']/dfe_by_vehicle2['DriveFuel45']\n",
    "dfe_by_vehicle2['HardBrakesTotal'] = 1000*dfe_by_vehicle2['HardBrakeCount']/dfe_by_vehicle2['TripDistance']"
   ]
  },
  {
   "cell_type": "code",
   "execution_count": 11,
   "metadata": {
    "collapsed": true
   },
   "outputs": [],
   "source": [
    "x = dfe_by_vehicle2['dfeTotal']\n",
    "y = dfe_by_vehicle2['HardBrakesTotal']"
   ]
  },
  {
   "cell_type": "code",
   "execution_count": 14,
   "metadata": {},
   "outputs": [
    {
     "data": {
      "text/plain": [
       "<matplotlib.collections.PathCollection at 0x7eff498fe320>"
      ]
     },
     "execution_count": 14,
     "metadata": {},
     "output_type": "execute_result"
    },
    {
     "data": {
      "image/png": "[encoded data removed]",
      "text/plain": [
       "<matplotlib.figure.Figure at 0x7eff49987b70>"
      ]
     },
     "metadata": {},
     "output_type": "display_data"
    }
   ],
   "source": [
    "plt.figure(figsize = (12,12))\n",
    "plt.scatter(x,y)"
   ]
  },
  {
   "cell_type": "code",
   "execution_count": 17,
   "metadata": {},
   "outputs": [],
   "source": [
    "#Remove outliers\n",
    "dfe_by_vehicle2 = dfe_by_vehicle2[dfe_by_vehicle2['HardBrakesTotal'] < 2]\n"
   ]
  },
  {
   "cell_type": "code",
   "execution_count": 18,
   "metadata": {
    "collapsed": true
   },
   "outputs": [],
   "source": [
    "x = dfe_by_vehicle2['dfeTotal']\n",
    "y = dfe_by_vehicle2['HardBrakesTotal']"
   ]
  },
  {
   "cell_type": "code",
   "execution_count": null,
   "metadata": {
    "collapsed": true
   },
   "outputs": [],
   "source": []
  },
  {
   "cell_type": "code",
   "execution_count": 19,
   "metadata": {
    "scrolled": false
   },
   "outputs": [
    {
     "data": {
      "text/plain": [
       "<matplotlib.collections.PathCollection at 0x7eff49872940>"
      ]
     },
     "execution_count": 19,
     "metadata": {},
     "output_type": "execute_result"
    },
    {
     "data": {
      "image/png": "[encoded data removed]",
      "text/plain": [
       "<matplotlib.figure.Figure at 0x7eff49929160>"
      ]
     },
     "metadata": {},
     "output_type": "display_data"
    }
   ],
   "source": [
    "plt.figure(figsize = (12,12))\n",
    "plt.scatter(x,y)"
   ]
  },
  {
   "cell_type": "code",
   "execution_count": 21,
   "metadata": {},
   "outputs": [
    {
     "name": "stderr",
     "output_type": "stream",
     "text": [
      "/home/kim/anaconda3/lib/python3.6/site-packages/ipykernel_launcher.py:1: FutureWarning: reshape is deprecated and will raise in a subsequent release. Please use .values.reshape(...) instead\n",
      "  \"\"\"Entry point for launching an IPython kernel.\n"
     ]
    },
    {
     "data": {
      "text/plain": [
       "array([[ 7.00607407],\n",
       "       [ 6.94000419],\n",
       "       [ 7.02550947],\n",
       "       [ 6.99806478],\n",
       "       [ 6.7242386 ],\n",
       "       [ 6.64762113],\n",
       "       [ 6.88458612],\n",
       "       [ 6.82220637],\n",
       "       [ 7.01417288],\n",
       "       [ 7.20184555],\n",
       "       [ 6.86245933],\n",
       "       [ 7.01495456],\n",
       "       [ 6.86982095],\n",
       "       [ 7.05186163],\n",
       "       [ 7.10322678],\n",
       "       [ 7.20033804],\n",
       "       [ 6.90777982],\n",
       "       [ 7.05643259],\n",
       "       [ 7.18805865],\n",
       "       [ 7.14502848],\n",
       "       [ 7.00785967],\n",
       "       [ 6.96675175],\n",
       "       [ 6.89079249],\n",
       "       [ 7.1328013 ],\n",
       "       [ 6.82284935],\n",
       "       [ 7.0001409 ],\n",
       "       [ 6.86568751],\n",
       "       [ 6.88283519],\n",
       "       [ 6.57584683],\n",
       "       [ 6.78582229],\n",
       "       [ 6.61383901],\n",
       "       [ 6.97877772],\n",
       "       [ 6.91012502]])"
      ]
     },
     "execution_count": 21,
     "metadata": {},
     "output_type": "execute_result"
    }
   ],
   "source": [
    "x.reshape(-1,1)"
   ]
  },
  {
   "cell_type": "code",
   "execution_count": 23,
   "metadata": {},
   "outputs": [
    {
     "name": "stderr",
     "output_type": "stream",
     "text": [
      "/home/kim/anaconda3/lib/python3.6/site-packages/ipykernel_launcher.py:2: FutureWarning: reshape is deprecated and will raise in a subsequent release. Please use .values.reshape(...) instead\n",
      "  \n"
     ]
    },
    {
     "data": {
      "text/plain": [
       "LinearRegression(copy_X=True, fit_intercept=True, n_jobs=1, normalize=False)"
      ]
     },
     "execution_count": 23,
     "metadata": {},
     "output_type": "execute_result"
    }
   ],
   "source": [
    "lm = LinearRegression()\n",
    "lm.fit(x.reshape(-1,1),y)"
   ]
  },
  {
   "cell_type": "code",
   "execution_count": 24,
   "metadata": {},
   "outputs": [
    {
     "data": {
      "text/plain": [
       "array([-0.46193946])"
      ]
     },
     "execution_count": 24,
     "metadata": {},
     "output_type": "execute_result"
    }
   ],
   "source": [
    "lm.coef_"
   ]
  },
  {
   "cell_type": "code",
   "execution_count": 25,
   "metadata": {},
   "outputs": [
    {
     "data": {
      "text/plain": [
       "3.6441205648702559"
      ]
     },
     "execution_count": 25,
     "metadata": {},
     "output_type": "execute_result"
    }
   ],
   "source": [
    "lm.intercept_"
   ]
  },
  {
   "cell_type": "code",
   "execution_count": null,
   "metadata": {
    "collapsed": true
   },
   "outputs": [],
   "source": []
  }
 ],
 "metadata": {
  "kernelspec": {
   "display_name": "Python 3",
   "language": "python",
   "name": "python3"
  },
  "language_info": {
   "codemirror_mode": {
    "name": "ipython",
    "version": 3
   },
   "file_extension": ".py",
   "mimetype": "text/x-python",
   "name": "python",
   "nbconvert_exporter": "python",
   "pygments_lexer": "ipython3",
   "version": "3.6.3"
  }
 },
 "nbformat": 4,
 "nbformat_minor": 2
}
