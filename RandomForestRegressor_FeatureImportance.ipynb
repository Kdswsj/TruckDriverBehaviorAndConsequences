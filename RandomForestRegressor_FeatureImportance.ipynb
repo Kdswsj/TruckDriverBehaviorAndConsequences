{
 "cells": [
  {
   "cell_type": "code",
   "execution_count": 28,
   "metadata": {
    "collapsed": true
   },
   "outputs": [],
   "source": [
    "import pandas as pd\n",
    "from sklearn.ensemble import RandomForestRegressor\n",
    "import matplotlib.pyplot as plt\n",
    "%matplotlib inline\n",
    "from functions import *\n",
    "from bokeh.plotting import figure, show"
   ]
  },
  {
   "cell_type": "code",
   "execution_count": 29,
   "metadata": {},
   "outputs": [
    {
     "data": {
      "text/html": [
       "<div>\n",
       "<style>\n",
       "    .dataframe thead tr:only-child th {\n",
       "        text-align: right;\n",
       "    }\n",
       "\n",
       "    .dataframe thead th {\n",
       "        text-align: left;\n",
       "    }\n",
       "\n",
       "    .dataframe tbody tr th {\n",
       "        vertical-align: top;\n",
       "    }\n",
       "</style>\n",
       "<table border=\"1\" class=\"dataframe\">\n",
       "  <thead>\n",
       "    <tr style=\"text-align: right;\">\n",
       "      <th></th>\n",
       "      <th>SourceFileId</th>\n",
       "      <th>TripEndTime</th>\n",
       "      <th>VehicleId</th>\n",
       "      <th>TripDistance</th>\n",
       "      <th>DriveFuel</th>\n",
       "      <th>DriveFuelEconomy</th>\n",
       "      <th>DistanceAvgLoadFactor</th>\n",
       "      <th>Drivetime</th>\n",
       "      <th>StopIdleTime</th>\n",
       "      <th>StopIdleFuel</th>\n",
       "      <th>...</th>\n",
       "      <th>AvgLoadFactor</th>\n",
       "      <th>HardBrakesPr1000miles</th>\n",
       "      <th>BrakesPr1000miles</th>\n",
       "      <th>TopGearMinusOneUsage</th>\n",
       "      <th>IdleFuelPercentage</th>\n",
       "      <th>EngineBrakePercentage</th>\n",
       "      <th>CruisePercentage</th>\n",
       "      <th>OverSpeedAPercentage</th>\n",
       "      <th>OverSpeedBPercentage</th>\n",
       "      <th>EngineFanPercentage</th>\n",
       "    </tr>\n",
       "  </thead>\n",
       "  <tbody>\n",
       "    <tr>\n",
       "      <th>2</th>\n",
       "      <td>28424</td>\n",
       "      <td>8/19/2016</td>\n",
       "      <td>281</td>\n",
       "      <td>161448.1</td>\n",
       "      <td>28200.13</td>\n",
       "      <td>5.73</td>\n",
       "      <td>0.50</td>\n",
       "      <td>10727712</td>\n",
       "      <td>3976920</td>\n",
       "      <td>1034.50</td>\n",
       "      <td>...</td>\n",
       "      <td>0.45</td>\n",
       "      <td>0.371636</td>\n",
       "      <td>353.327168</td>\n",
       "      <td>0.056143</td>\n",
       "      <td>0.036684</td>\n",
       "      <td>0.111953</td>\n",
       "      <td>0.409951</td>\n",
       "      <td>0.013890</td>\n",
       "      <td>0.000617</td>\n",
       "      <td>0.073740</td>\n",
       "    </tr>\n",
       "    <tr>\n",
       "      <th>3</th>\n",
       "      <td>39301</td>\n",
       "      <td>2/5/2017</td>\n",
       "      <td>281</td>\n",
       "      <td>161448.1</td>\n",
       "      <td>28200.13</td>\n",
       "      <td>5.73</td>\n",
       "      <td>0.50</td>\n",
       "      <td>10727712</td>\n",
       "      <td>3976920</td>\n",
       "      <td>1034.50</td>\n",
       "      <td>...</td>\n",
       "      <td>0.45</td>\n",
       "      <td>0.371636</td>\n",
       "      <td>353.327168</td>\n",
       "      <td>0.056143</td>\n",
       "      <td>0.036684</td>\n",
       "      <td>0.111953</td>\n",
       "      <td>0.409951</td>\n",
       "      <td>0.013890</td>\n",
       "      <td>0.000617</td>\n",
       "      <td>0.073740</td>\n",
       "    </tr>\n",
       "    <tr>\n",
       "      <th>4</th>\n",
       "      <td>40235</td>\n",
       "      <td>5/23/2017</td>\n",
       "      <td>281</td>\n",
       "      <td>161448.1</td>\n",
       "      <td>28200.13</td>\n",
       "      <td>5.73</td>\n",
       "      <td>0.50</td>\n",
       "      <td>10727712</td>\n",
       "      <td>3976920</td>\n",
       "      <td>1034.50</td>\n",
       "      <td>...</td>\n",
       "      <td>0.45</td>\n",
       "      <td>0.371636</td>\n",
       "      <td>353.327168</td>\n",
       "      <td>0.056143</td>\n",
       "      <td>0.036684</td>\n",
       "      <td>0.111953</td>\n",
       "      <td>0.409951</td>\n",
       "      <td>0.013890</td>\n",
       "      <td>0.000617</td>\n",
       "      <td>0.073740</td>\n",
       "    </tr>\n",
       "    <tr>\n",
       "      <th>5</th>\n",
       "      <td>40616</td>\n",
       "      <td>9/13/2017</td>\n",
       "      <td>281</td>\n",
       "      <td>161448.3</td>\n",
       "      <td>28200.38</td>\n",
       "      <td>5.73</td>\n",
       "      <td>0.50</td>\n",
       "      <td>10727856</td>\n",
       "      <td>3976920</td>\n",
       "      <td>1034.50</td>\n",
       "      <td>...</td>\n",
       "      <td>0.45</td>\n",
       "      <td>0.371636</td>\n",
       "      <td>353.332925</td>\n",
       "      <td>0.056143</td>\n",
       "      <td>0.036684</td>\n",
       "      <td>0.111951</td>\n",
       "      <td>0.409945</td>\n",
       "      <td>0.013889</td>\n",
       "      <td>0.000617</td>\n",
       "      <td>0.073739</td>\n",
       "    </tr>\n",
       "    <tr>\n",
       "      <th>6</th>\n",
       "      <td>40694</td>\n",
       "      <td>11/6/2017</td>\n",
       "      <td>253</td>\n",
       "      <td>4572.5</td>\n",
       "      <td>774.00</td>\n",
       "      <td>5.91</td>\n",
       "      <td>0.51</td>\n",
       "      <td>286452</td>\n",
       "      <td>333288</td>\n",
       "      <td>34.25</td>\n",
       "      <td>...</td>\n",
       "      <td>0.45</td>\n",
       "      <td>0.656096</td>\n",
       "      <td>287.151449</td>\n",
       "      <td>0.303249</td>\n",
       "      <td>0.044251</td>\n",
       "      <td>0.476562</td>\n",
       "      <td>0.071635</td>\n",
       "      <td>0.255750</td>\n",
       "      <td>0.316451</td>\n",
       "      <td>1.188639</td>\n",
       "    </tr>\n",
       "  </tbody>\n",
       "</table>\n",
       "<p>5 rows × 31 columns</p>\n",
       "</div>"
      ],
      "text/plain": [
       "   SourceFileId TripEndTime  VehicleId  TripDistance  DriveFuel  \\\n",
       "2         28424   8/19/2016        281      161448.1   28200.13   \n",
       "3         39301    2/5/2017        281      161448.1   28200.13   \n",
       "4         40235   5/23/2017        281      161448.1   28200.13   \n",
       "5         40616   9/13/2017        281      161448.3   28200.38   \n",
       "6         40694   11/6/2017        253        4572.5     774.00   \n",
       "\n",
       "   DriveFuelEconomy  DistanceAvgLoadFactor  Drivetime  StopIdleTime  \\\n",
       "2              5.73                   0.50   10727712       3976920   \n",
       "3              5.73                   0.50   10727712       3976920   \n",
       "4              5.73                   0.50   10727712       3976920   \n",
       "5              5.73                   0.50   10727856       3976920   \n",
       "6              5.91                   0.51     286452        333288   \n",
       "\n",
       "   StopIdleFuel         ...           AvgLoadFactor  HardBrakesPr1000miles  \\\n",
       "2       1034.50         ...                    0.45               0.371636   \n",
       "3       1034.50         ...                    0.45               0.371636   \n",
       "4       1034.50         ...                    0.45               0.371636   \n",
       "5       1034.50         ...                    0.45               0.371636   \n",
       "6         34.25         ...                    0.45               0.656096   \n",
       "\n",
       "   BrakesPr1000miles  TopGearMinusOneUsage  IdleFuelPercentage  \\\n",
       "2         353.327168              0.056143            0.036684   \n",
       "3         353.327168              0.056143            0.036684   \n",
       "4         353.327168              0.056143            0.036684   \n",
       "5         353.332925              0.056143            0.036684   \n",
       "6         287.151449              0.303249            0.044251   \n",
       "\n",
       "   EngineBrakePercentage  CruisePercentage  OverSpeedAPercentage  \\\n",
       "2               0.111953          0.409951              0.013890   \n",
       "3               0.111953          0.409951              0.013890   \n",
       "4               0.111953          0.409951              0.013890   \n",
       "5               0.111951          0.409945              0.013889   \n",
       "6               0.476562          0.071635              0.255750   \n",
       "\n",
       "   OverSpeedBPercentage  EngineFanPercentage  \n",
       "2              0.000617             0.073740  \n",
       "3              0.000617             0.073740  \n",
       "4              0.000617             0.073740  \n",
       "5              0.000617             0.073739  \n",
       "6              0.316451             1.188639  \n",
       "\n",
       "[5 rows x 31 columns]"
      ]
     },
     "execution_count": 29,
     "metadata": {},
     "output_type": "execute_result"
    }
   ],
   "source": [
    "# load the data\n",
    "df = GetData()\n",
    "df.head()"
   ]
  },
  {
   "cell_type": "code",
   "execution_count": 30,
   "metadata": {
    "collapsed": true
   },
   "outputs": [],
   "source": [
    "#select the features\n",
    "X = df[['DistanceAvgLoadFactor', 'StopIdlePercent', 'DistanceAvgvehiclespeed','TopGearMinusOneUsage', 'HardBrakesPr1000miles', \\\n",
    "           'BrakesPr1000miles', 'IdleFuelPercentage', 'EngineBrakePercentage', 'CruisePercentage', 'OverSpeedBPercentage', \\\n",
    "           'OverSpeedAPercentage', 'EngineFanPercentage']]\n",
    "y = df['DriveFuelEconomy']"
   ]
  },
  {
   "cell_type": "code",
   "execution_count": 31,
   "metadata": {
    "scrolled": true
   },
   "outputs": [
    {
     "data": {
      "text/plain": [
       "RandomForestRegressor(bootstrap=True, criterion='mse', max_depth=10,\n",
       "           max_features='auto', max_leaf_nodes=None,\n",
       "           min_impurity_decrease=0.0, min_impurity_split=None,\n",
       "           min_samples_leaf=1, min_samples_split=2,\n",
       "           min_weight_fraction_leaf=0.0, n_estimators=10, n_jobs=1,\n",
       "           oob_score=False, random_state=0, verbose=0, warm_start=False)"
      ]
     },
     "execution_count": 31,
     "metadata": {},
     "output_type": "execute_result"
    }
   ],
   "source": [
    "regr = RandomForestRegressor(max_depth=10, random_state=0)\n",
    "regr.fit(X, y)"
   ]
  },
  {
   "cell_type": "code",
   "execution_count": 32,
   "metadata": {},
   "outputs": [
    {
     "data": {
      "text/plain": [
       "0.95021325890319552"
      ]
     },
     "execution_count": 32,
     "metadata": {},
     "output_type": "execute_result"
    }
   ],
   "source": [
    "regr.score(X,y)"
   ]
  },
  {
   "cell_type": "code",
   "execution_count": 33,
   "metadata": {},
   "outputs": [
    {
     "data": {
      "text/plain": [
       "array([ 0.56414935,  0.0288716 ,  0.13799463,  0.08593413,  0.0183468 ,\n",
       "        0.02419735,  0.01289054,  0.0242843 ,  0.02173152,  0.02028366,\n",
       "        0.03649262,  0.0248235 ])"
      ]
     },
     "execution_count": 33,
     "metadata": {},
     "output_type": "execute_result"
    }
   ],
   "source": [
    "regr.feature_importances_"
   ]
  },
  {
   "cell_type": "code",
   "execution_count": 49,
   "metadata": {
    "collapsed": true
   },
   "outputs": [],
   "source": [
    "p = figure(plot_width = 400, plot_height=400)"
   ]
  },
  {
   "cell_type": "code",
   "execution_count": 50,
   "metadata": {},
   "outputs": [
    {
     "data": {
      "text/plain": [
       "[0, 1, 2, 3, 4, 5, 6, 7, 8, 9, 10, 11]"
      ]
     },
     "execution_count": 50,
     "metadata": {},
     "output_type": "execute_result"
    }
   ],
   "source": [
    "y1 = [x for x in range(len(X.columns))]\n",
    "y1"
   ]
  },
  {
   "cell_type": "code",
   "execution_count": 51,
   "metadata": {},
   "outputs": [
    {
     "data": {
      "text/html": [
       "<div style=\"display: table;\"><div style=\"display: table-row;\"><div style=\"display: table-cell;\"><b title=\"bokeh.models.renderers.GlyphRenderer\">GlyphRenderer</b>(</div><div style=\"display: table-cell;\">id&nbsp;=&nbsp;'5583d9fc-4134-48c2-81c0-bf2edd0421f5', <span id=\"f4e3d35a-89b2-41fb-9df8-60f288b4afe6\" style=\"cursor: pointer;\">&hellip;)</span></div></div><div class=\"0086a8d9-4b40-4dd2-85b7-6ecb1f82c5a5\" style=\"display: none;\"><div style=\"display: table-cell;\"></div><div style=\"display: table-cell;\">data_source&nbsp;=&nbsp;ColumnDataSource(id='a336a80a-cc2f-4f78-a2ae-4328bcc7eb14', ...),</div></div><div class=\"0086a8d9-4b40-4dd2-85b7-6ecb1f82c5a5\" style=\"display: none;\"><div style=\"display: table-cell;\"></div><div style=\"display: table-cell;\">glyph&nbsp;=&nbsp;HBar(id='54c61017-32b3-4386-8eb6-a60d2eea95f4', ...),</div></div><div class=\"0086a8d9-4b40-4dd2-85b7-6ecb1f82c5a5\" style=\"display: none;\"><div style=\"display: table-cell;\"></div><div style=\"display: table-cell;\">hover_glyph&nbsp;=&nbsp;None,</div></div><div class=\"0086a8d9-4b40-4dd2-85b7-6ecb1f82c5a5\" style=\"display: none;\"><div style=\"display: table-cell;\"></div><div style=\"display: table-cell;\">js_event_callbacks&nbsp;=&nbsp;{},</div></div><div class=\"0086a8d9-4b40-4dd2-85b7-6ecb1f82c5a5\" style=\"display: none;\"><div style=\"display: table-cell;\"></div><div style=\"display: table-cell;\">js_property_callbacks&nbsp;=&nbsp;{},</div></div><div class=\"0086a8d9-4b40-4dd2-85b7-6ecb1f82c5a5\" style=\"display: none;\"><div style=\"display: table-cell;\"></div><div style=\"display: table-cell;\">level&nbsp;=&nbsp;'glyph',</div></div><div class=\"0086a8d9-4b40-4dd2-85b7-6ecb1f82c5a5\" style=\"display: none;\"><div style=\"display: table-cell;\"></div><div style=\"display: table-cell;\">muted&nbsp;=&nbsp;False,</div></div><div class=\"0086a8d9-4b40-4dd2-85b7-6ecb1f82c5a5\" style=\"display: none;\"><div style=\"display: table-cell;\"></div><div style=\"display: table-cell;\">muted_glyph&nbsp;=&nbsp;None,</div></div><div class=\"0086a8d9-4b40-4dd2-85b7-6ecb1f82c5a5\" style=\"display: none;\"><div style=\"display: table-cell;\"></div><div style=\"display: table-cell;\">name&nbsp;=&nbsp;None,</div></div><div class=\"0086a8d9-4b40-4dd2-85b7-6ecb1f82c5a5\" style=\"display: none;\"><div style=\"display: table-cell;\"></div><div style=\"display: table-cell;\">nonselection_glyph&nbsp;=&nbsp;HBar(id='72baf4d9-1ae6-4581-89e8-b89ebf1dce2c', ...),</div></div><div class=\"0086a8d9-4b40-4dd2-85b7-6ecb1f82c5a5\" style=\"display: none;\"><div style=\"display: table-cell;\"></div><div style=\"display: table-cell;\">selection_glyph&nbsp;=&nbsp;None,</div></div><div class=\"0086a8d9-4b40-4dd2-85b7-6ecb1f82c5a5\" style=\"display: none;\"><div style=\"display: table-cell;\"></div><div style=\"display: table-cell;\">subscribed_events&nbsp;=&nbsp;[],</div></div><div class=\"0086a8d9-4b40-4dd2-85b7-6ecb1f82c5a5\" style=\"display: none;\"><div style=\"display: table-cell;\"></div><div style=\"display: table-cell;\">tags&nbsp;=&nbsp;[],</div></div><div class=\"0086a8d9-4b40-4dd2-85b7-6ecb1f82c5a5\" style=\"display: none;\"><div style=\"display: table-cell;\"></div><div style=\"display: table-cell;\">view&nbsp;=&nbsp;CDSView(id='8a827661-8b2f-46af-9b2b-a33b6f53256b', ...),</div></div><div class=\"0086a8d9-4b40-4dd2-85b7-6ecb1f82c5a5\" style=\"display: none;\"><div style=\"display: table-cell;\"></div><div style=\"display: table-cell;\">visible&nbsp;=&nbsp;True,</div></div><div class=\"0086a8d9-4b40-4dd2-85b7-6ecb1f82c5a5\" style=\"display: none;\"><div style=\"display: table-cell;\"></div><div style=\"display: table-cell;\">x_range_name&nbsp;=&nbsp;'default',</div></div><div class=\"0086a8d9-4b40-4dd2-85b7-6ecb1f82c5a5\" style=\"display: none;\"><div style=\"display: table-cell;\"></div><div style=\"display: table-cell;\">y_range_name&nbsp;=&nbsp;'default')</div></div></div>\n",
       "<script>\n",
       "(function() {\n",
       "  var expanded = false;\n",
       "  var ellipsis = document.getElementById(\"f4e3d35a-89b2-41fb-9df8-60f288b4afe6\");\n",
       "  ellipsis.addEventListener(\"click\", function() {\n",
       "    var rows = document.getElementsByClassName(\"0086a8d9-4b40-4dd2-85b7-6ecb1f82c5a5\");\n",
       "    for (var i = 0; i < rows.length; i++) {\n",
       "      var el = rows[i];\n",
       "      el.style.display = expanded ? \"none\" : \"table-row\";\n",
       "    }\n",
       "    ellipsis.innerHTML = expanded ? \"&hellip;)\" : \"&lsaquo;&lsaquo;&lsaquo;\";\n",
       "    expanded = !expanded;\n",
       "  });\n",
       "})();\n",
       "</script>\n"
      ],
      "text/plain": [
       "GlyphRenderer(id='5583d9fc-4134-48c2-81c0-bf2edd0421f5', ...)"
      ]
     },
     "execution_count": 51,
     "metadata": {},
     "output_type": "execute_result"
    }
   ],
   "source": [
    "p.hbar(y = y1,right=regr.feature_importances_,height=0.5,left=0)"
   ]
  },
  {
   "cell_type": "code",
   "execution_count": 52,
   "metadata": {},
   "outputs": [],
   "source": [
    "show(p)"
   ]
  },
  {
   "cell_type": "code",
   "execution_count": null,
   "metadata": {
    "collapsed": true
   },
   "outputs": [],
   "source": []
  }
 ],
 "metadata": {
  "kernelspec": {
   "display_name": "Python 3",
   "language": "python",
   "name": "python3"
  },
  "language_info": {
   "codemirror_mode": {
    "name": "ipython",
    "version": 3
   },
   "file_extension": ".py",
   "mimetype": "text/x-python",
   "name": "python",
   "nbconvert_exporter": "python",
   "pygments_lexer": "ipython3",
   "version": "3.6.3"
  }
 },
 "nbformat": 4,
 "nbformat_minor": 2
}
